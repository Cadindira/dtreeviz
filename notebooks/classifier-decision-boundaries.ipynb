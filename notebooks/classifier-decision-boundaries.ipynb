{
 "cells": [
  {
   "cell_type": "markdown",
   "metadata": {},
   "source": [
    "# Partition of feature space by random forest"
   ]
  },
  {
   "cell_type": "code",
   "execution_count": 5,
   "metadata": {},
   "outputs": [
    {
     "name": "stdout",
     "output_type": "stream",
     "text": [
      "1.3\n"
     ]
    }
   ],
   "source": [
    "import numpy as np\n",
    "import pandas as pd\n",
    "\n",
    "from sklearn.linear_model import LinearRegression, Ridge, Lasso, LogisticRegression\n",
    "from sklearn.tree import DecisionTreeClassifier, DecisionTreeRegressor\n",
    "\n",
    "from sklearn.ensemble import RandomForestClassifier, RandomForestRegressor\n",
    "from sklearn.datasets import load_boston, load_iris, load_wine, load_digits, \\\n",
    "                             load_breast_cancer, load_diabetes\n",
    "from sklearn.model_selection import train_test_split\n",
    "from sklearn.metrics import confusion_matrix, precision_score, recall_score\n",
    "\n",
    "import matplotlib.pyplot as plt\n",
    "from matplotlib.collections import PatchCollection\n",
    "#%config InlineBackend.figure_format = 'svg'\n",
    "%config InlineBackend.figure_format = 'retina'\n",
    "\n",
    "from rfpimp import *   # pip install rfpimp\n",
    "\n",
    "from sklearn import tree\n",
    "\n",
    "import dtreeviz\n",
    "print(dtreeviz.__version__)\n",
    "from dtreeviz.trees import *\n",
    "from dtreeviz import clfviz_bivar"
   ]
  },
  {
   "cell_type": "markdown",
   "metadata": {},
   "source": [
    "## Decision tree and random forest for wine data set"
   ]
  },
  {
   "cell_type": "code",
   "execution_count": null,
   "metadata": {},
   "outputs": [],
   "source": [
    "wine = load_wine()\n",
    "X = wine.data\n",
    "X = X[:,[12,6]]\n",
    "y = wine.target\n",
    "len(X), len(y)\n",
    "\n",
    "colors = {'classes':\n",
    "          [None, # 0 classes\n",
    "          None, # 1 class\n",
    "          [\"#FEFEBB\",\"#a1dab4\"], # 2 classes\n",
    "          [\"#FEFEBB\",\"#D9E6F5\",'#a1dab4'], # 3\n",
    "          ]\n",
    "         }\n",
    "\n",
    "feature_c_bivar = ['proline','flavanoid']\n",
    "target_c_bivar = \"wine\"\n",
    "class_name_bivar = list(wine.target_names)\n",
    "feature_c_bivar, target_c_bivar,  class_name_bivar"
   ]
  },
  {
   "cell_type": "code",
   "execution_count": null,
   "metadata": {},
   "outputs": [],
   "source": [
    "dtc_bivar = DecisionTreeClassifier(max_depth=2)\n",
    "dtc_bivar.fit(X, y)\n",
    "\n",
    "ctreeviz_bivar(dtc_bivar, X, y, \n",
    "               feature_names=feature_c_bivar, target_name=target_c_bivar, class_names=class_name_bivar,\n",
    "               show={'splits', \"legend\"}, \n",
    "               colors={'scatter_edge': 'black'})"
   ]
  },
  {
   "cell_type": "code",
   "execution_count": null,
   "metadata": {},
   "outputs": [],
   "source": [
    "rf = RandomForestClassifier(n_estimators=50, min_samples_leaf=2, n_jobs=-1)\n",
    "rf.fit(X, y)\n",
    "\n",
    "fig,axes = plt.subplots(1,2, figsize=(8,3.8), dpi=300)\n",
    "clfviz_bivar(rf, X, y, ntiles=50, ax=axes[0], tile_fraction=.9, show_proba=True, feature_names=['proline', 'flavanoid'])\n",
    "clfviz_bivar(rf, X, y, ntiles=50, ax=axes[1], tile_fraction=.85, show_proba=False, feature_names=['proline', 'flavanoid'])\n",
    "plt.show()"
   ]
  },
  {
   "cell_type": "code",
   "execution_count": null,
   "metadata": {},
   "outputs": [],
   "source": [
    "fig,ax = plt.subplots(1,1, figsize=(3.5,3))\n",
    "crfviz_bivar(rf, X, y, ntiles=20, ax=ax, tile_fraction=.95, feature_names=['proline', 'flavanoid'])"
   ]
  },
  {
   "cell_type": "code",
   "execution_count": null,
   "metadata": {},
   "outputs": [],
   "source": [
    "import pltvid\n",
    "\n",
    "dpi = 300\n",
    "camera = pltvid.Capture(dpi=dpi)\n",
    "max = 10\n",
    "for depth in range(1,max+1):\n",
    "    t = DecisionTreeClassifier(max_depth=depth)\n",
    "    t.fit(X,y)\n",
    "\n",
    "    fig,ax = plt.subplots(1,1, figsize=(4,3.5), dpi=dpi)\n",
    "    ctreeviz_bivar(t, X, y, \n",
    "                   feature_names=['proline', 'flavanoid'], target_name=\"wine\",\n",
    "                   show={'splits'},\n",
    "                   colors={'scatter_edge': 'black',\n",
    "                           'tesselation_alpha':.4},\n",
    "                   ax=ax)\n",
    "    plt.title(f\"Wine tree depth {depth}\")\n",
    "    plt.tight_layout()\n",
    "    if depth>=max:\n",
    "        camera.snap(8)\n",
    "    else:\n",
    "        camera.snap()\n",
    "    # plt.show()\n",
    "\n",
    "camera.save(\"/tmp/wine-dtree-maxdepth.png\", duration=500)"
   ]
  },
  {
   "cell_type": "markdown",
   "metadata": {},
   "source": [
    "## Titantic"
   ]
  },
  {
   "cell_type": "code",
   "execution_count": null,
   "metadata": {},
   "outputs": [],
   "source": [
    "df = pd.read_csv(\"../data/titanic/titanic.csv\")\n",
    "df['Sex'] = np.where(df['Sex']=='male', 0, 1)\n",
    "df.head(2).T"
   ]
  },
  {
   "cell_type": "code",
   "execution_count": null,
   "metadata": {},
   "outputs": [],
   "source": [
    "X, y = df.drop(['Survived','Name','Ticket','Cabin','Embarked'], axis=1), df['Survived']\n",
    "X['Age_na'] = X['Age'].isna()\n",
    "X['Age'] = X['Age'].fillna(X['Age'].median(skipna=True))"
   ]
  },
  {
   "cell_type": "code",
   "execution_count": null,
   "metadata": {},
   "outputs": [],
   "source": [
    "rf = RandomForestClassifier(n_estimators=20, min_samples_leaf=3, n_jobs=-1)\n",
    "rf.fit(X, y)\n",
    "\n",
    "I = importances(rf, X, y)\n",
    "plot_importances(I)"
   ]
  },
  {
   "cell_type": "code",
   "execution_count": null,
   "metadata": {},
   "outputs": [],
   "source": [
    "X = X[['Age','Fare']]\n",
    "rf = RandomForestClassifier(n_estimators=10, n_jobs=-1)\n",
    "rf.fit(X, y)"
   ]
  },
  {
   "cell_type": "code",
   "execution_count": null,
   "metadata": {},
   "outputs": [],
   "source": [
    "ctreeviz_bivar_fusion(rf.estimators_, X, y,\n",
    "                      feature_names=['Age','Fare'], target_name=\"wine\",\n",
    "                      class_names=None,\n",
    "                      alpha=.1)"
   ]
  },
  {
   "cell_type": "code",
   "execution_count": null,
   "metadata": {},
   "outputs": [],
   "source": [
    "crfviz_bivar(rf, X.values, y, ntiles=50, feature_names=['Age','Fare'])"
   ]
  },
  {
   "cell_type": "markdown",
   "metadata": {},
   "source": [
    "## Cancer"
   ]
  },
  {
   "cell_type": "code",
   "execution_count": null,
   "metadata": {},
   "outputs": [],
   "source": [
    "cancer = load_breast_cancer()\n",
    "\n",
    "df = pd.DataFrame(data=cancer.data)\n",
    "df.columns = [f'f{i}' for i in range(df.shape[1])]\n",
    "df['y'] = cancer.target\n",
    "df.head(3)"
   ]
  },
  {
   "cell_type": "code",
   "execution_count": null,
   "metadata": {},
   "outputs": [],
   "source": [
    "X, y = df.drop('y',axis=1), df['y']"
   ]
  },
  {
   "cell_type": "code",
   "execution_count": null,
   "metadata": {},
   "outputs": [],
   "source": [
    "rf = RandomForestClassifier(n_estimators=20, min_samples_leaf=3, n_jobs=-1)\n",
    "rf.fit(X, y)\n",
    "\n",
    "I = importances(rf, X, y)[0:5]"
   ]
  },
  {
   "cell_type": "code",
   "execution_count": null,
   "metadata": {},
   "outputs": [],
   "source": [
    "plot_importances(I)"
   ]
  },
  {
   "cell_type": "code",
   "execution_count": null,
   "metadata": {},
   "outputs": [],
   "source": [
    "X = df[['f27','f22']]\n",
    "\n",
    "rf = RandomForestClassifier(n_estimators=30, min_samples_leaf=5, n_jobs=-1)\n",
    "rf.fit(X, y)"
   ]
  },
  {
   "cell_type": "code",
   "execution_count": null,
   "metadata": {},
   "outputs": [],
   "source": [
    "ctreeviz_bivar_fusion(rf.estimators_, X, y,\n",
    "                      feature_names=['f27', 'f22'], target_name=\"cancer\",\n",
    "                      class_names=['not-cancer','cancer'],\n",
    "                      alpha=.05)"
   ]
  },
  {
   "cell_type": "code",
   "execution_count": null,
   "metadata": {},
   "outputs": [],
   "source": [
    "crfviz_bivar(rf, X.values, y, feature_names=['f27', 'f22'], ntiles=40)"
   ]
  },
  {
   "cell_type": "markdown",
   "metadata": {},
   "source": [
    "## Synthetic data sets"
   ]
  },
  {
   "cell_type": "code",
   "execution_count": null,
   "metadata": {},
   "outputs": [],
   "source": [
    "def smiley(n = 1000):\n",
    "    # mouth\n",
    "    x1 = np.random.normal(1.0,.2,n).reshape(-1,1)\n",
    "    x2 = np.random.normal(0.4,.05,n).reshape(-1,1)\n",
    "    cl = np.full(shape=(n,1), fill_value=0, dtype=int)\n",
    "    d = np.hstack([x1,x2,cl])\n",
    "    data = d\n",
    "    \n",
    "    # left eye\n",
    "    x1 = np.random.normal(.7,.2,n).reshape(-1,1)\n",
    "#     x2 = np.random.normal(0.8,.1,n).reshape(-1,1)\n",
    "    x2 = x1 + .3 + np.random.normal(0,.1,n).reshape(-1,1)\n",
    "    cl = np.full(shape=(n,1), fill_value=1, dtype=int)\n",
    "    d = np.hstack([x1,x2,cl])\n",
    "    data = np.vstack([data, d])\n",
    "\n",
    "    # right eye\n",
    "    x1 = np.random.normal(1.3,.2,n).reshape(-1,1)\n",
    "    x2 = np.random.normal(0.8,.1,n).reshape(-1,1)\n",
    "    x2 = x1 - .5 + .3 + np.random.normal(0,.1,n).reshape(-1,1)\n",
    "    cl = np.full(shape=(n,1), fill_value=2, dtype=int)\n",
    "    d = np.hstack([x1,x2,cl])\n",
    "    data = np.vstack([data, d])\n",
    "\n",
    "    # face outline\n",
    "    noise = np.random.normal(0,.1,n).reshape(-1,1)\n",
    "    x1 = np.linspace(0,2,n).reshape(-1,1)\n",
    "    x2 = (x1-1)**2 + noise\n",
    "    cl = np.full(shape=(n,1), fill_value=3, dtype=int)\n",
    "    d = np.hstack([x1,x2,cl])\n",
    "    data = np.vstack([data, d])\n",
    "\n",
    "    df = pd.DataFrame(data, columns=['x1','x2','class'])\n",
    "    return df"
   ]
  },
  {
   "cell_type": "markdown",
   "metadata": {},
   "source": [
    "Test we get 4 classes in a smiley face:"
   ]
  },
  {
   "cell_type": "code",
   "execution_count": null,
   "metadata": {},
   "outputs": [],
   "source": [
    "df = smiley(n=150)\n",
    "plt.scatter(df.x1,df.x2,s=3,c=df['class'])"
   ]
  },
  {
   "cell_type": "code",
   "execution_count": null,
   "metadata": {},
   "outputs": [],
   "source": [
    "df = smiley(n=300)\n",
    "X = df[['x1','x2']]\n",
    "y = df['class']\n",
    "rf = RandomForestClassifier(n_estimators=10, min_samples_leaf=1, n_jobs=-1)\n",
    "rf.fit(X, y)\n",
    "\n",
    "fig,ax = plt.subplots(1,1,figsize=(7,6))\n",
    "crfviz_bivar(rf, X.values, y, feature_names=['x1', 'x2'], ntiles=70, dot_w=15, ax=ax)"
   ]
  },
  {
   "cell_type": "code",
   "execution_count": null,
   "metadata": {},
   "outputs": [],
   "source": [
    "t = DecisionTreeClassifier(max_depth=4)\n",
    "t.fit(X,y)\n",
    "ctreeviz_bivar(t, X, y, \n",
    "               feature_names=['x1', 'x2'], target_name=\"class\",\n",
    "               show={'splits'},\n",
    "               colors={'scatter_edge': 'black'})"
   ]
  },
  {
   "cell_type": "markdown",
   "metadata": {},
   "source": [
    "### Animate num trees in RF"
   ]
  },
  {
   "cell_type": "code",
   "execution_count": null,
   "metadata": {},
   "outputs": [],
   "source": [
    "import pltvid\n",
    "\n",
    "df = smiley(n=100)\n",
    "X = df[['x1','x2']]\n",
    "y = df['class']\n",
    "rf = RandomForestClassifier(n_estimators=10, min_samples_leaf=1, n_jobs=-1)\n",
    "rf.fit(X, y)\n",
    "\n",
    "dpi = 300\n",
    "camera = pltvid.Capture(dpi=dpi)\n",
    "max = 100\n",
    "tree_sizes = [*range(1,10)]+[*range(10,max+1,5)]\n",
    "for nt in tree_sizes:\n",
    "    np.random.seed(1) # use same bagging sets for animation\n",
    "    rf = RandomForestClassifier(n_estimators=nt, min_samples_leaf=1, n_jobs=-1)\n",
    "    rf.fit(X, y)\n",
    "\n",
    "    fig,ax = plt.subplots(1,1, figsize=(3,2.8), dpi=dpi)\n",
    "    crfviz_bivar(rf, X.values, y, feature_names=['x1', 'x2'],\n",
    "                 ntiles=70, dot_w=15, boundary_markersize=.4, ax=ax)\n",
    "    plt.title(f\"Synthetic dataset, {nt} trees\")\n",
    "    plt.tight_layout()\n",
    "    if nt>=tree_sizes[-1]:\n",
    "        camera.snap(5)\n",
    "    else:\n",
    "        camera.snap()\n",
    "    # plt.show()\n",
    "\n",
    "camera.save(\"/tmp/smiley-numtrees.png\", duration=500)"
   ]
  },
  {
   "cell_type": "markdown",
   "metadata": {},
   "source": [
    "### Animate decision tree max depth"
   ]
  },
  {
   "cell_type": "code",
   "execution_count": null,
   "metadata": {},
   "outputs": [],
   "source": [
    "import pltvid\n",
    "\n",
    "df = smiley(n=100) # more stark changes with fewer\n",
    "X = df[['x1','x2']]\n",
    "y = df['class']\n",
    "\n",
    "dpi = 300\n",
    "camera = pltvid.Capture(dpi=dpi)\n",
    "max = 10\n",
    "for depth in range(1,max+1):\n",
    "    t = DecisionTreeClassifier(max_depth=depth)\n",
    "    t.fit(X,y)\n",
    "\n",
    "    fig,ax = plt.subplots(1,1, figsize=(4,3.5), dpi=dpi)\n",
    "    ctreeviz_bivar(t, X, y, \n",
    "                   feature_names=['x1', 'x2'], target_name=\"class\",\n",
    "                   show={'splits'},\n",
    "                   colors={'scatter_edge': 'black',\n",
    "                           'tesselation_alpha':.6},\n",
    "                   ax=ax)\n",
    "    plt.title(f\"Synthetic dataset, tree depth {depth}\")\n",
    "    plt.tight_layout()\n",
    "    if depth>=max:\n",
    "        camera.snap(8)\n",
    "    else:\n",
    "        camera.snap()\n",
    "    # plt.show()\n",
    "\n",
    "camera.save(\"/tmp/smiley-dtree-maxdepth.png\", duration=500)"
   ]
  },
  {
   "cell_type": "markdown",
   "metadata": {},
   "source": [
    "### Animate decision tree min samples per leaf"
   ]
  },
  {
   "cell_type": "code",
   "execution_count": null,
   "metadata": {},
   "outputs": [],
   "source": [
    "import pltvid\n",
    "\n",
    "df = smiley(n=100)\n",
    "X = df[['x1','x2']]\n",
    "y = df['class']\n",
    "\n",
    "dpi = 300\n",
    "camera = pltvid.Capture(dpi=dpi)\n",
    "max = 20\n",
    "for leafsz in range(1,max+1):\n",
    "    t = DecisionTreeClassifier(min_samples_leaf=leafsz)\n",
    "    t.fit(X,y)\n",
    "\n",
    "    fig,ax = plt.subplots(1,1, figsize=(4,3.5), dpi=dpi)\n",
    "    ctreeviz_bivar(t, X, y, \n",
    "                   feature_names=['x1', 'x2'], target_name=\"class\",\n",
    "                   show={'splits'},\n",
    "                   colors={'scatter_edge': 'black',\n",
    "                           'tesselation_alpha':.4},\n",
    "                   ax=ax)\n",
    "    plt.title(f\"Synthetic dataset, {leafsz} samples/leaf\")\n",
    "    plt.tight_layout()\n",
    "    if leafsz>=max:\n",
    "        camera.snap(8)\n",
    "    else:\n",
    "        camera.snap()\n",
    "    # plt.show()\n",
    "\n",
    "camera.save(\"/tmp/smiley-dtree-minsamplesleaf.png\", duration=500)"
   ]
  },
  {
   "cell_type": "code",
   "execution_count": null,
   "metadata": {},
   "outputs": [],
   "source": []
  }
 ],
 "metadata": {
  "kernelspec": {
   "display_name": "Python 3",
   "language": "python",
   "name": "python3"
  },
  "language_info": {
   "codemirror_mode": {
    "name": "ipython",
    "version": 3
   },
   "file_extension": ".py",
   "mimetype": "text/x-python",
   "name": "python",
   "nbconvert_exporter": "python",
   "pygments_lexer": "ipython3",
   "version": "3.8.6"
  }
 },
 "nbformat": 4,
 "nbformat_minor": 4
}
